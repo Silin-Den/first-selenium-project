{
 "cells": [
  {
   "cell_type": "markdown",
   "id": "60a420c8",
   "metadata": {},
   "source": [
    "<p style=\"background:black\">\n",
    "<code style=\"background:black;color:white\">~/Users/YOUR_USERNAME/> pip3 install selenium<br> -->Voile\n",
    "</code>\n",
    "</p>"
   ]
  },
  {
   "cell_type": "markdown",
   "id": "926d442b",
   "metadata": {},
   "source": [
    "<div id=\"id\"></div> \n",
    "\n",
    "[CONFTEST](#conftest) | [LOCATORS](#locators) | [PAGE OBJECTS](#page_obj) | [TESTS](#tests) | [RUNNERS](#runs)\n",
    "     "
   ]
  },
  {
   "cell_type": "markdown",
   "id": "c093312f",
   "metadata": {},
   "source": [
    "<h3>\n",
    "    <p id=\"conftest\" style=\"font-family:Comic Sans MS;color:black;\"> CONFEST </p>     \n",
    "</h3>  \n",
    "\n",
    "[-->](#id)"
   ]
  },
  {
   "cell_type": "code",
   "execution_count": 1,
   "id": "6885a16b",
   "metadata": {},
   "outputs": [
    {
     "name": "stdout",
     "output_type": "stream",
     "text": [
      "Overwriting conftest.py\n"
     ]
    }
   ],
   "source": [
    "%%writefile conftest.py\n",
    "\n",
    "import pytest\n",
    "from selenium import webdriver\n",
    "from selenium.webdriver.chrome.options import Options\n",
    "\n",
    "\n",
    "def pytest_addoption(parser):\n",
    "    parser.addoption('--browser_name', action='store', default=\"chrome\",\n",
    "                     help=\"Choose browser: chrome or firefox\")\n",
    "    parser.addoption('--language', action='store', default=\"en\",\n",
    "                     help=\"Choose language\")\n",
    "    \n",
    "@pytest.fixture(scope=\"function\")\n",
    "def language(request):\n",
    "    language = request.config.getoption(\"language\")\n",
    "    return language \n",
    "\n",
    "@pytest.fixture(scope=\"function\")\n",
    "def browser(request,language):\n",
    "    \n",
    "    browser_name = request.config.getoption(\"browser_name\")\n",
    "    browser = None\n",
    "    \n",
    "    if browser_name == \"chrome\":\n",
    "        \n",
    "        print(\"\\nstart chrome browser for test..\")\n",
    "        options = Options()\n",
    "        options.add_experimental_option('prefs', {'intl.accept_languages': language})\n",
    "        browser = webdriver.Chrome(options=options)\n",
    "        \n",
    "    elif browser_name == \"firefox\":\n",
    "        \n",
    "        print(\"\\nstart firefox browser for test..\")\n",
    "        fp = webdriver.FirefoxProfile()\n",
    "        fp.set_preference(\"intl.accept_languages\", language)\n",
    "        browser = webdriver.Firefox(firefox_profile=fp)\n",
    "\n",
    "    else:\n",
    "        \n",
    "        raise pytest.UsageError(\"--browser_name should be chrome or firefox\")\n",
    "        \n",
    "    yield browser\n",
    "    print(\"\\nquit browser..\")\n",
    "    browser.quit()\n",
    "\n",
    "    "
   ]
  },
  {
   "cell_type": "markdown",
   "id": "851b6b7f",
   "metadata": {},
   "source": [
    "<h3>\n",
    "    <div id=\"locators\"  style=\"font-family:Comic Sans MS;color:black\" > LOCATORS </div>\n",
    "</h3>\n",
    "\n",
    "[-->](#id)"
   ]
  },
  {
   "cell_type": "code",
   "execution_count": 2,
   "id": "d0b630a2",
   "metadata": {},
   "outputs": [
    {
     "name": "stdout",
     "output_type": "stream",
     "text": [
      "Overwriting pages/locators.py\n"
     ]
    }
   ],
   "source": [
    "%%writefile pages/locators.py\n",
    "\n",
    "from selenium.webdriver.common.by import By\n",
    "\n",
    "class MainPageLocators():\n",
    "    LOGIN_LINK = (By.CSS_SELECTOR, \"#login_link\")\n",
    "    \n",
    "class LoginPageLocators():\n",
    "    LOGIN_FORM = (By.CSS_SELECTOR, \"#login_form\")\n",
    "    REGISTER_FORM = (By.CSS_SELECTOR, \"#register_form\")\n",
    "\n",
    "class ProductPageLocators():\n",
    "    BASKET_BUTTON = (By.CSS_SELECTOR,\"button.btn-add-to-basket\")\n",
    "    PRODUCT_NAME  = (By.CSS_SELECTOR,\".product_main > h1\")\n",
    "    BUSKET_PRODUCT_NAME  = (By.CSS_SELECTOR,\".alertinner > strong\")\n",
    "    PRODUCT_PRICE = (By.CSS_SELECTOR,\".product_main > .price_color\")\n",
    "    BUSKET_PRODUCT_PRICE  = (By.CSS_SELECTOR,\".alertinner > p > strong\")\n",
    "    SUCCESS_MESSAGE = (By.CSS_SELECTOR,\"#messages > div:nth-child(1)\")"
   ]
  },
  {
   "cell_type": "code",
   "execution_count": null,
   "id": "481535c0",
   "metadata": {},
   "outputs": [],
   "source": []
  },
  {
   "cell_type": "markdown",
   "id": "74a81830",
   "metadata": {},
   "source": [
    "<h3>\n",
    "    <p id=\"page_obj\" style=\"font-family:Comic Sans MS;color:black\"> PAGE OBJECTS </p> \n",
    "</h3>\n",
    "\n",
    "[-->](#id)"
   ]
  },
  {
   "cell_type": "markdown",
   "id": "91c13d2d",
   "metadata": {},
   "source": [
    "[BasePage](#BasePage) | [LoginPage](#LoginPage) | [MainPage](#MainPage) | [ProductPage](#ProductPage) |"
   ]
  },
  {
   "cell_type": "markdown",
   "id": "2d7e0690",
   "metadata": {},
   "source": [
    "> <h4>\n",
    "    <p id=\"BasePage\" style=\"font-family:Comic Sans MS;color:black\" > BasePage </p>\n",
    "</h4>"
   ]
  },
  {
   "cell_type": "code",
   "execution_count": 3,
   "id": "1074504b",
   "metadata": {},
   "outputs": [
    {
     "name": "stdout",
     "output_type": "stream",
     "text": [
      "Overwriting pages/base_page.py\n"
     ]
    }
   ],
   "source": [
    "%%writefile pages/base_page.py\n",
    "\n",
    "from selenium.common.exceptions import NoSuchElementException, NoAlertPresentException, TimeoutException\n",
    "from selenium.webdriver.support.ui import WebDriverWait\n",
    "from selenium.webdriver.support import expected_conditions as EC\n",
    "\n",
    "import math\n",
    "\n",
    "class BasePage():\n",
    "    \n",
    "    def __init__(self, browser, url, timeout=10):\n",
    "        \n",
    "        self.browser = browser\n",
    "        self.url = url\n",
    "        self.browser.implicitly_wait(timeout)\n",
    "        \n",
    "        \n",
    "    def open(self):\n",
    "        \n",
    "        self.browser.get(self.url)\n",
    "        \n",
    "        \n",
    "    def is_element_present(self, how, what):\n",
    "        \n",
    "        try:\n",
    "            self.browser.find_element(how, what)\n",
    "        except NoSuchElementException:\n",
    "            return False\n",
    "        return True \n",
    "    \n",
    "    \n",
    "    def is_not_element_present(self, how, what, timeout=4):\n",
    "            \n",
    "        try:\n",
    "            WebDriverWait(self.browser, timeout).until(EC.presence_of_element_located((how, what)))\n",
    "        except TimeoutException:\n",
    "            return True\n",
    "        return False  \n",
    "    \n",
    "    \n",
    "    def solve_quiz_and_get_code(self):\n",
    "        \n",
    "        alert = self.browser.switch_to.alert\n",
    "        x = int(alert.text.split(\" \")[2])\n",
    "        answer = str(math.log(abs((12 * math.sin(float(x))))))\n",
    "        alert.send_keys(answer)\n",
    "        alert.accept()\n",
    "        \n",
    "        try:\n",
    "            alert = self.browser.switch_to.alert\n",
    "            alert_text = alert.text\n",
    "            print(f\"Your code: {alert_text}\")\n",
    "            alert.accept()\n",
    "            \n",
    "        except NoAlertPresentException:\n",
    "            print(\"No second alert presented\")\n",
    "            \n",
    "            \n",
    "    def is_disappeared(self, how, what, timeout=4):\n",
    "        \n",
    "        try:\n",
    "            WebDriverWait(self.browser, timeout, 1, TimeoutException).\\\n",
    "            until_not(EC.presence_of_element_located((how, what)))\n",
    "        except TimeoutException:\n",
    "            return False\n",
    "        return True  "
   ]
  },
  {
   "cell_type": "markdown",
   "id": "6d127ab2",
   "metadata": {},
   "source": [
    "> <h4>\n",
    "    <p id=\"LoginPage\" style=\"font-family:Comic Sans MS;color:black\" > LoginPage </p>\n",
    "</h4>"
   ]
  },
  {
   "cell_type": "code",
   "execution_count": 4,
   "id": "0ceba8b3",
   "metadata": {},
   "outputs": [
    {
     "name": "stdout",
     "output_type": "stream",
     "text": [
      "Overwriting pages/login_page.py\n"
     ]
    }
   ],
   "source": [
    "%%writefile pages/login_page.py\n",
    "\n",
    "from .base_page import BasePage\n",
    "from .locators import LoginPageLocators\n",
    "\n",
    "class LoginPage(BasePage):\n",
    "    \n",
    "    def should_be_login_page(self):\n",
    "        self.should_be_login_url()\n",
    "        self.should_be_login_form()\n",
    "        self.should_be_register_form()\n",
    "\n",
    "    def should_be_login_url(self):\n",
    "        \n",
    "        assert \"login\" in self.browser.current_url, 'Incorrected URL (not inclusive substring \"login\").'\n",
    "\n",
    "    def should_be_login_form(self):\n",
    "        \n",
    "        assert self.browser.find_element(*LoginPageLocators.LOGIN_FORM) ,'Up-s-s...Login form not found!'\n",
    "\n",
    "    def should_be_register_form(self):\n",
    "        \n",
    "        assert self.browser.find_element(*LoginPageLocators.REGISTER_FORM),'Up-s-s...Register form not found!'"
   ]
  },
  {
   "cell_type": "markdown",
   "id": "e5a429e7",
   "metadata": {},
   "source": [
    "> <h4>\n",
    "    <p id=\"MainPage\" style=\"font-family:Comic Sans MS;color:black\"> MainPage </p>\n",
    "</h4>"
   ]
  },
  {
   "cell_type": "code",
   "execution_count": 5,
   "id": "70cfbecb",
   "metadata": {},
   "outputs": [
    {
     "name": "stdout",
     "output_type": "stream",
     "text": [
      "Overwriting pages/main_page.py\n"
     ]
    }
   ],
   "source": [
    "%%writefile pages/main_page.py\n",
    "\n",
    "from selenium.webdriver.common.by import By\n",
    "from .base_page import BasePage\n",
    "from .locators import MainPageLocators\n",
    "from .login_page import LoginPage\n",
    "\n",
    "class MainPage(BasePage): \n",
    "    \n",
    "    def go_to_login_page(self):\n",
    "        \n",
    "        link = self.browser.find_element(*MainPageLocators.LOGIN_LINK)\n",
    "        link.click()        \n",
    "        return LoginPage(browser=self.browser, url=self.browser.current_url) \n",
    "                     \n",
    "    def should_be_login_link(self):\n",
    "        assert self.is_element_present(*MainPageLocators.LOGIN_LINK), \"Login link is not presented\"\n",
    "        "
   ]
  },
  {
   "cell_type": "markdown",
   "id": "8c87f076",
   "metadata": {},
   "source": [
    "> <h4>\n",
    "    <p id=\"ProductPage\" style=\"font-family:Comic Sans MS;color:black\"> ProductPage </p>\n",
    "</h4>"
   ]
  },
  {
   "cell_type": "code",
   "execution_count": 16,
   "id": "24af3e5a",
   "metadata": {},
   "outputs": [
    {
     "name": "stdout",
     "output_type": "stream",
     "text": [
      "Overwriting pages/product_page.py\n"
     ]
    }
   ],
   "source": [
    "%%writefile pages/product_page.py\n",
    "\n",
    "from selenium.webdriver.common.by import By\n",
    "from .base_page import BasePage\n",
    "from .locators import ProductPageLocators\n",
    "\n",
    "class ProductPage(BasePage):\n",
    "    \n",
    "    def add_product_to_basket(self):\n",
    "        self.should_be_button()\n",
    "        self.solve_quiz_and_get_code()\n",
    "        self.should_be_equal_name()\n",
    "        self.should_be_equal_price()\n",
    "    \n",
    "    def should_be_button(self): \n",
    "        \n",
    "        button = self.browser.find_element(*ProductPageLocators.BASKET_BUTTON)\n",
    "        button.click()\n",
    "        print('Your code: Congratulations! Buttton presented!--> ')\n",
    "    \n",
    "    def should_be_equal_name(self):\n",
    "        \n",
    "        product_name  = self.browser.find_element(*ProductPageLocators.PRODUCT_NAME)\n",
    "        basket_name  = self.browser.find_element(*ProductPageLocators.BUSKET_PRODUCT_NAME)\n",
    "        assert basket_name.text == product_name.text, 'not equal names!!'\n",
    "        print('Your code: Congratulations! Couple name is equal! --> ')\n",
    "        \n",
    "    def should_be_equal_price(self):\n",
    "        \n",
    "        product_price = self.browser.find_element(*ProductPageLocators.PRODUCT_PRICE)\n",
    "        basket_price  = self.browser.find_element(*ProductPageLocators.BUSKET_PRODUCT_PRICE)\n",
    "        assert basket_price.text == product_price.text, 'not equal prices!!'\n",
    "        print('Your code: Congratulations! Couple price is equal! --> ')\n",
    "        \n",
    "    def should_not_be_success_message(self):\n",
    "        assert self.is_not_element_present(*ProductPageLocators.SUCCESS_MESSAGE), \\\n",
    "           \"Success message is presented, but should not be\" \n",
    "        print('Your code: Congratulations! Success message not presented! --> ')\n",
    "        \n",
    "    def should_be_success_message(self):\n",
    "        assert self.is_element_present(*ProductPageLocators.SUCCESS_MESSAGE), \\\n",
    "           \"Success message not presented, but should be!\"  \n",
    "        print('Your code: Congratulations! Success message presented! --> ')\n",
    "        \n",
    "    def success_message_should_disappear(self):\n",
    "        assert False\n",
    "        print('Your code: Congratulations! Success message disappeared! --> ')"
   ]
  },
  {
   "cell_type": "code",
   "execution_count": null,
   "id": "a546c86c",
   "metadata": {},
   "outputs": [],
   "source": []
  },
  {
   "cell_type": "markdown",
   "id": "010e3063",
   "metadata": {},
   "source": [
    "<h3>\n",
    "    <p id=\"tests\" style=\"font-family:Comic Sans MS;color:black\"> TESTS </p>\n",
    "</h3>\n",
    "\n",
    "[-->](#id)"
   ]
  },
  {
   "cell_type": "markdown",
   "id": "6155c357",
   "metadata": {},
   "source": [
    "[test_main_page](#test_main_page) | [test_product_page](#test_product_page)"
   ]
  },
  {
   "cell_type": "markdown",
   "id": "e47a5a82",
   "metadata": {},
   "source": [
    "> <h4>\n",
    "    <p id=\"test_main_page\" style=\"font-family:Comic Sans MS;color:black\"> test_main_page </p>\n",
    "</h4>"
   ]
  },
  {
   "cell_type": "code",
   "execution_count": 7,
   "id": "9407ea4d",
   "metadata": {},
   "outputs": [
    {
     "name": "stdout",
     "output_type": "stream",
     "text": [
      "Overwriting test_main_page.py\n"
     ]
    }
   ],
   "source": [
    "%%writefile test_main_page.py\n",
    "\n",
    "from pages.main_page import MainPage\n",
    "\n",
    "link = \"http://selenium1py.pythonanywhere.com/\"\n",
    "\n",
    "class Test_main_page():\n",
    "    \n",
    "    def test_guest_should_see_login_link(self, browser):\n",
    "\n",
    "        page = MainPage(browser, link)\n",
    "        page.open()\n",
    "        page.should_be_login_link()  \n",
    "\n",
    "\n",
    "    def test_guest_can_go_to_login_page(self,browser):\n",
    "        \n",
    "        page = MainPage(browser, link)\n",
    "        page.open()\n",
    "        login_page = page.go_to_login_page()\n",
    "        login_page.should_be_login_page()\n",
    "\n"
   ]
  },
  {
   "cell_type": "markdown",
   "id": "96ee9cdc",
   "metadata": {},
   "source": [
    "> <h4>\n",
    "    <p id=\"test_product_page\" style=\"font-family:Comic Sans MS;color:black\"> test_product_page </p>\n",
    "</h4>"
   ]
  },
  {
   "cell_type": "code",
   "execution_count": 8,
   "id": "08dac4cb",
   "metadata": {},
   "outputs": [
    {
     "name": "stdout",
     "output_type": "stream",
     "text": [
      "Overwriting test_product_page.py\n"
     ]
    }
   ],
   "source": [
    "%%writefile test_product_page.py\n",
    "\n",
    "\n",
    "import time\n",
    "\n",
    "from pages.product_page import ProductPage\n",
    "\n",
    "link = \" http://selenium1py.pythonanywhere.com/catalogue/coders-at-work_207/?promo=newYear2019\"\n",
    "\n",
    "class Test_product_page():\n",
    "    \n",
    "# import pytest    \n",
    "# @pytest.mark.parametrize(\n",
    "#         'link', [\"http://selenium1py.pythonanywhere.com/catalogue/coders-at-work_207/?promo=offer0\",\n",
    "#                  \"http://selenium1py.pythonanywhere.com/catalogue/coders-at-work_207/?promo=offer1\",\n",
    "#                  \"http://selenium1py.pythonanywhere.com/catalogue/coders-at-work_207/?promo=offer2\",\n",
    "#                  \"http://selenium1py.pythonanywhere.com/catalogue/coders-at-work_207/?promo=offer3\",\n",
    "#                  \"http://selenium1py.pythonanywhere.com/catalogue/coders-at-work_207/?promo=offer4\",\n",
    "#                  \"http://selenium1py.pythonanywhere.com/catalogue/coders-at-work_207/?promo=offer5\",\n",
    "#                  \"http://selenium1py.pythonanywhere.com/catalogue/coders-at-work_207/?promo=offer6\",\n",
    "#                  \"http://selenium1py.pythonanywhere.com/catalogue/coders-at-work_207/?promo=offer7\",\n",
    "#                  \"http://selenium1py.pythonanywhere.com/catalogue/coders-at-work_207/?promo=offer8\",\n",
    "#                  \"http://selenium1py.pythonanywhere.com/catalogue/coders-at-work_207/?promo=offer9\"])\n",
    "\n",
    "    \n",
    "    def  test_guest_can_add_product_to_basket(self,browser):\n",
    "\n",
    "        try:\n",
    "            page = ProductPage(browser,link)\n",
    "            page.open()\n",
    "            page.should_not_be_success_message()\n",
    "            page.add_product_to_basket()\n",
    "            page.should_be_success_message()\n",
    "            page.success_message_should_disappear()\n",
    "\n",
    "        finally:    \n",
    "            time.sleep(1)     "
   ]
  },
  {
   "cell_type": "code",
   "execution_count": 14,
   "id": "da8c1083",
   "metadata": {},
   "outputs": [
    {
     "name": "stdout",
     "output_type": "stream",
     "text": [
      "Overwriting test_negative.py\n"
     ]
    }
   ],
   "source": [
    "%%writefile test_negative.py\n",
    "\n",
    "import time\n",
    "from pages.product_page import ProductPage\n",
    "\n",
    "link = \" http://selenium1py.pythonanywhere.com/catalogue/coders-at-work_207/?promo=newYear2019\"\n",
    "\n",
    "\n",
    "class Test_Negative():\n",
    "    \n",
    "    def test_guest_cant_see_success_message_after_adding_product_to_basket(self,browser):\n",
    "        page = ProductPage(browser,link)\n",
    "        page.open()\n",
    "        page.add_product_to_basket()\n",
    "        page.should_not_be_success_message()\n",
    "#         print(timeout)\n",
    "        \n",
    "    def test_guest_cant_see_success_message(self,browser):\n",
    "        page = ProductPage(browser,link)\n",
    "        page.open()\n",
    "        page.should_not_be_success_message()\n",
    "#         print(timeout)\n",
    "        \n",
    "    def test_message_disappeared_after_adding_product_to_basket(self,browser):\n",
    "        page = ProductPage(browser,link)\n",
    "        page.open()\n",
    "        page.add_product_to_basket()\n",
    "        page.success_message_should_disappear()\n",
    "#         print(timeout)"
   ]
  },
  {
   "cell_type": "code",
   "execution_count": null,
   "id": "352ade57",
   "metadata": {},
   "outputs": [],
   "source": []
  },
  {
   "cell_type": "markdown",
   "id": "4bf2d84d",
   "metadata": {},
   "source": [
    "<h3>\n",
    "    <p id=\"runs\" style=\"font-family:Comic Sans MS;color:black\" > RUNNERS </p>\n",
    "</h3>"
   ]
  },
  {
   "cell_type": "markdown",
   "id": "b5033dff",
   "metadata": {},
   "source": [
    "<h4><p id=\"test_main_page\" style=\"font-family:Comic Sans MS;color:black\" > test_main_page </p></h4>"
   ]
  },
  {
   "cell_type": "code",
   "execution_count": 10,
   "id": "419a68cb",
   "metadata": {},
   "outputs": [
    {
     "name": "stdout",
     "output_type": "stream",
     "text": [
      "\u001b[1m============================= test session starts ==============================\u001b[0m\n",
      "platform darwin -- Python 3.10.0, pytest-6.2.5, py-1.11.0, pluggy-0.13.1 -- /Users/silinanata/environments/selenium_env/bin/python3\n",
      "cachedir: .pytest_cache\n",
      "rootdir: /Users/silinanata/selenium_project/first-selenium-project\n",
      "plugins: rerunfailures-10.2\n",
      "collected 2 items                                                              \u001b[0m\n",
      "\n",
      "test_main_page.py::Test_main_page::test_guest_should_see_login_link \n",
      "start chrome browser for test..\n",
      "\u001b[32mPASSED\u001b[0m\n",
      "quit browser..\n",
      "\n",
      "test_main_page.py::Test_main_page::test_guest_can_go_to_login_page \n",
      "start chrome browser for test..\n",
      "\u001b[32mPASSED\u001b[0m\n",
      "quit browser..\n",
      "\n",
      "\n",
      "\u001b[32m============================== \u001b[32m\u001b[1m2 passed\u001b[0m\u001b[32m in 9.16s\u001b[0m\u001b[32m ===============================\u001b[0m\n"
     ]
    }
   ],
   "source": [
    "!pytest -sv --tb=line --language=en test_main_page.py"
   ]
  },
  {
   "cell_type": "markdown",
   "id": "7c5103a0",
   "metadata": {},
   "source": [
    "<h4><p id=\"test_product_page\" style=\"font-family:Comic Sans MS;color:black\" > test_product_page </p></h4>"
   ]
  },
  {
   "cell_type": "code",
   "execution_count": 11,
   "id": "f33e0f73",
   "metadata": {},
   "outputs": [
    {
     "name": "stdout",
     "output_type": "stream",
     "text": [
      "\u001b[1m============================= test session starts ==============================\u001b[0m\n",
      "platform darwin -- Python 3.10.0, pytest-6.2.5, py-1.11.0, pluggy-0.13.1 -- /Users/silinanata/environments/selenium_env/bin/python3\n",
      "cachedir: .pytest_cache\n",
      "rootdir: /Users/silinanata/selenium_project/first-selenium-project\n",
      "plugins: rerunfailures-10.2\n",
      "collected 1 item                                                               \u001b[0m\n",
      "\n",
      "test_product_page.py::Test_product_page::test_guest_can_add_product_to_basket \n",
      "start chrome browser for test..\n",
      "Your code: Congratulations! Success message not presented! --> \n",
      "Your code: Congratulations! Buttton presented!--> \n",
      "Your code: Поздравляем, вы справились! Вставьте это число в поле ответа на Stepik: 27.266338047238445\n",
      "Your code: Congratulations! Couple name is equal! --> \n",
      "Your code: Congratulations! Couple price is equal! --> \n",
      "Your code: Congratulations! Success message presented! --> \n",
      "Your code: Congratulations! Success message disappeared! --> \n",
      "\u001b[32mPASSED\u001b[0m\n",
      "quit browser..\n",
      "\n",
      "\n",
      "\u001b[32m============================== \u001b[32m\u001b[1m1 passed\u001b[0m\u001b[32m in 18.86s\u001b[0m\u001b[32m ==============================\u001b[0m\n"
     ]
    }
   ],
   "source": [
    "!pytest -sv --tb=line test_product_page.py"
   ]
  },
  {
   "cell_type": "markdown",
   "id": "ca97bbed",
   "metadata": {},
   "source": [
    "<h4><p id=\"negatve_tests\" style=\"font-family:Comic Sans MS;color:black\" > test_negatve_tests </p></h4>"
   ]
  },
  {
   "cell_type": "code",
   "execution_count": 17,
   "id": "d6a70614",
   "metadata": {},
   "outputs": [
    {
     "name": "stdout",
     "output_type": "stream",
     "text": [
      "\u001b[1m============================= test session starts ==============================\u001b[0m\n",
      "platform darwin -- Python 3.10.0, pytest-6.2.5, py-1.11.0, pluggy-0.13.1 -- /Users/silinanata/environments/selenium_env/bin/python3\n",
      "cachedir: .pytest_cache\n",
      "rootdir: /Users/silinanata/selenium_project/first-selenium-project\n",
      "plugins: rerunfailures-10.2\n",
      "collected 3 items                                                              \u001b[0m\n",
      "\n",
      "test_negative.py::Test_Negative::test_guest_cant_see_success_message_after_adding_product_to_basket \n",
      "start chrome browser for test..\n",
      "Your code: Congratulations! Buttton presented!--> \n",
      "Your code: Поздравляем, вы справились! Вставьте это число в поле ответа на Stepik: 27.26633826601196\n",
      "Your code: Congratulations! Couple name is equal! --> \n",
      "Your code: Congratulations! Couple price is equal! --> \n",
      "\u001b[31mFAILED\u001b[0m\n",
      "quit browser..\n",
      "\n",
      "test_negative.py::Test_Negative::test_guest_cant_see_success_message \n",
      "start chrome browser for test..\n",
      "Your code: Congratulations! Success message not presented! --> \n",
      "\u001b[32mPASSED\u001b[0m\n",
      "quit browser..\n",
      "\n",
      "test_negative.py::Test_Negative::test_message_disappeared_after_adding_product_to_basket \n",
      "start chrome browser for test..\n",
      "Your code: Congratulations! Buttton presented!--> \n",
      "Your code: Поздравляем, вы справились! Вставьте это число в поле ответа на Stepik: 27.26633826601196\n",
      "Your code: Congratulations! Couple name is equal! --> \n",
      "Your code: Congratulations! Couple price is equal! --> \n",
      "\u001b[31mFAILED\u001b[0m\n",
      "quit browser..\n",
      "\n",
      "\n",
      "=================================== FAILURES ===================================\n",
      "/Users/silinanata/selenium_project/first-selenium-project/pages/product_page.py:35: AssertionError: Success message is presented, but should not be\n",
      "/Users/silinanata/selenium_project/first-selenium-project/pages/product_page.py:45: AssertionError\n",
      "=========================== short test summary info ============================\n",
      "FAILED test_negative.py::Test_Negative::test_guest_cant_see_success_message_after_adding_product_to_basket\n",
      "FAILED test_negative.py::Test_Negative::test_message_disappeared_after_adding_product_to_basket\n",
      "\u001b[31m========================= \u001b[31m\u001b[1m2 failed\u001b[0m, \u001b[32m1 passed\u001b[0m\u001b[31m in 28.60s\u001b[0m\u001b[31m =========================\u001b[0m\n"
     ]
    }
   ],
   "source": [
    "!pytest -sv --tb=line test_negative.py"
   ]
  },
  {
   "cell_type": "code",
   "execution_count": null,
   "id": "017f9fe7",
   "metadata": {},
   "outputs": [],
   "source": []
  }
 ],
 "metadata": {
  "kernelspec": {
   "display_name": "Python 3 (ipykernel)",
   "language": "python",
   "name": "python3"
  },
  "language_info": {
   "codemirror_mode": {
    "name": "ipython",
    "version": 3
   },
   "file_extension": ".py",
   "mimetype": "text/x-python",
   "name": "python",
   "nbconvert_exporter": "python",
   "pygments_lexer": "ipython3",
   "version": "3.10.0"
  }
 },
 "nbformat": 4,
 "nbformat_minor": 5
}
