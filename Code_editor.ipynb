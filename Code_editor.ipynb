{
 "cells": [
  {
   "cell_type": "markdown",
   "id": "926d442b",
   "metadata": {},
   "source": [
    "<h4>Добавьте туда файл conftest.py из предыдущего модуля. <br>Убедитесь дополнительно, что там есть параметр для задания языка интерфейса, по умолчанию равный \"en\".</h4>"
   ]
  },
  {
   "cell_type": "code",
   "execution_count": 8,
   "id": "6885a16b",
   "metadata": {},
   "outputs": [
    {
     "name": "stdout",
     "output_type": "stream",
     "text": [
      "Overwriting conftest.py\n"
     ]
    }
   ],
   "source": [
    "%%writefile conftest.py\n",
    "\n",
    "import pytest\n",
    "from selenium import webdriver\n",
    "from selenium.webdriver.chrome.options import Options\n",
    "\n",
    "\n",
    "def pytest_addoption(parser):\n",
    "    parser.addoption('--browser_name', action='store', default=\"chrome\",\n",
    "                     help=\"Choose browser: chrome or firefox\")\n",
    "    parser.addoption('--language', action='store', default=\"en\",\n",
    "                     help=\"Choose language\")\n",
    "    \n",
    "@pytest.fixture(scope=\"function\")\n",
    "def language(request):\n",
    "    language = request.config.getoption(\"language\")\n",
    "    return language \n",
    "\n",
    "@pytest.fixture(scope=\"function\")\n",
    "def browser(request,language):\n",
    "    \n",
    "    browser_name = request.config.getoption(\"browser_name\")\n",
    "    browser = None\n",
    "    \n",
    "    if browser_name == \"chrome\":\n",
    "        \n",
    "        print(\"\\nstart chrome browser for test..\")\n",
    "        options = Options()\n",
    "        options.add_experimental_option('prefs', {'intl.accept_languages': language})\n",
    "        browser = webdriver.Chrome(options=options)\n",
    "        \n",
    "    elif browser_name == \"firefox\":\n",
    "        \n",
    "        print(\"\\nstart firefox browser for test..\")\n",
    "        fp = webdriver.FirefoxProfile()\n",
    "        fp.set_preference(\"intl.accept_languages\", language)\n",
    "        browser = webdriver.Firefox(firefox_profile=fp)\n",
    "\n",
    "    else:\n",
    "        \n",
    "        raise pytest.UsageError(\"--browser_name should be chrome or firefox\")\n",
    "        \n",
    "    yield browser\n",
    "    print(\"\\nquit browser..\")\n",
    "    browser.quit()\n",
    "\n",
    "    "
   ]
  },
  {
   "cell_type": "code",
   "execution_count": 17,
   "id": "1074504b",
   "metadata": {},
   "outputs": [
    {
     "name": "stdout",
     "output_type": "stream",
     "text": [
      "Overwriting pages/base_page.py\n"
     ]
    }
   ],
   "source": [
    "%%writefile pages/base_page.py\n",
    "\n",
    "from selenium.common.exceptions import NoSuchElementException\n",
    "\n",
    "class BasePage():\n",
    "    \n",
    "    def __init__(self, browser, url, timeout=10):\n",
    "        \n",
    "        self.browser = browser\n",
    "        self.url = url\n",
    "        self.browser.implicitly_wait(timeout)\n",
    "        \n",
    "        \n",
    "    def open(self):\n",
    "        \n",
    "        self.browser.get(self.url)\n",
    "        \n",
    "        \n",
    "    def is_element_present(self, how, what):\n",
    "        \n",
    "        try:\n",
    "            self.browser.find_element(how, what)\n",
    "        except (NoSuchElementException):\n",
    "            return False\n",
    "        return True    "
   ]
  },
  {
   "cell_type": "code",
   "execution_count": 18,
   "id": "463cb8ec",
   "metadata": {},
   "outputs": [
    {
     "name": "stdout",
     "output_type": "stream",
     "text": [
      "Overwriting pages/main_page.py\n"
     ]
    }
   ],
   "source": [
    "%%writefile pages/main_page.py\n",
    "\n",
    "from .base_page import BasePage\n",
    "from selenium.webdriver.common.by import By\n",
    "\n",
    "class MainPage(BasePage): \n",
    "    \n",
    "    def go_to_login_page(self):\n",
    "        \n",
    "        login_link = self.browser.find_element(By.CSS_SELECTOR, \"#login_link\")\n",
    "        login_link.click()\n",
    "            \n",
    "    def should_be_login_link(self):\n",
    "        assert self.is_element_present(By.CSS_SELECTOR, \"#login_link_invalid\"), \"Login link is not presented\"\n",
    "        "
   ]
  },
  {
   "cell_type": "code",
   "execution_count": 14,
   "id": "9407ea4d",
   "metadata": {},
   "outputs": [
    {
     "name": "stdout",
     "output_type": "stream",
     "text": [
      "Overwriting test_main_page.py\n"
     ]
    }
   ],
   "source": [
    "%%writefile test_main_page.py\n",
    "\n",
    "from pages.main_page import MainPage\n",
    "\n",
    "\n",
    "def test_guest_should_see_login_link(browser):\n",
    "    \n",
    "    link = \"http://selenium1py.pythonanywhere.com/\"\n",
    "    page = MainPage(browser, link)\n",
    "    page.open()\n",
    "    page.should_be_login_link()  \n",
    "\n",
    "\n",
    "def test_guest_can_go_to_login_page(browser):\n",
    "    \n",
    "    link = \"http://selenium1py.pythonanywhere.com/\"\n",
    "    # инициализируем Page Object, передаем в конструктор экземпляр драйвера и url адрес \n",
    "    page = MainPage(browser, link)   \n",
    "    page.open()\n",
    "    page.go_to_login_page()\n",
    "    \n",
    "  "
   ]
  },
  {
   "cell_type": "code",
   "execution_count": 19,
   "id": "419a68cb",
   "metadata": {},
   "outputs": [
    {
     "name": "stdout",
     "output_type": "stream",
     "text": [
      "\u001b[1m============================= test session starts ==============================\u001b[0m\n",
      "platform darwin -- Python 3.10.0, pytest-6.2.5, py-1.11.0, pluggy-0.13.1 -- /Users/silinanata/environments/selenium_env/bin/python3\n",
      "cachedir: .pytest_cache\n",
      "rootdir: /Users/silinanata/selenium_project/first-selenium-project\n",
      "plugins: rerunfailures-10.2\n",
      "collected 2 items                                                              \u001b[0m\n",
      "\n",
      "test_main_page.py::test_guest_should_see_login_link \n",
      "start chrome browser for test..\n",
      "\u001b[31mFAILED\u001b[0m\n",
      "quit browser..\n",
      "\n",
      "test_main_page.py::test_guest_can_go_to_login_page \n",
      "start chrome browser for test..\n",
      "\u001b[32mPASSED\u001b[0m\n",
      "quit browser..\n",
      "\n",
      "\n",
      "=================================== FAILURES ===================================\n",
      "/Users/silinanata/selenium_project/first-selenium-project/pages/main_page.py:13: AssertionError: Login link is not presented\n",
      "=========================== short test summary info ============================\n",
      "FAILED test_main_page.py::test_guest_should_see_login_link - AssertionError: ...\n",
      "\u001b[31m========================= \u001b[31m\u001b[1m1 failed\u001b[0m, \u001b[32m1 passed\u001b[0m\u001b[31m in 21.28s\u001b[0m\u001b[31m =========================\u001b[0m\n"
     ]
    }
   ],
   "source": [
    "!pytest -sv --tb=line --language=en test_main_page.py"
   ]
  },
  {
   "cell_type": "code",
   "execution_count": null,
   "id": "da747f45",
   "metadata": {},
   "outputs": [],
   "source": []
  }
 ],
 "metadata": {
  "kernelspec": {
   "display_name": "Python 3 (ipykernel)",
   "language": "python",
   "name": "python3"
  },
  "language_info": {
   "codemirror_mode": {
    "name": "ipython",
    "version": 3
   },
   "file_extension": ".py",
   "mimetype": "text/x-python",
   "name": "python",
   "nbconvert_exporter": "python",
   "pygments_lexer": "ipython3",
   "version": "3.10.0"
  }
 },
 "nbformat": 4,
 "nbformat_minor": 5
}
