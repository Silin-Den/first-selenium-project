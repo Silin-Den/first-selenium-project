{
 "cells": [
  {
   "cell_type": "code",
   "execution_count": 1,
   "id": "300eca91",
   "metadata": {},
   "outputs": [
    {
     "name": "stdout",
     "output_type": "stream",
     "text": [
      "Overwriting conftest.py\n"
     ]
    }
   ],
   "source": [
    "%%writefile conftest.py\n",
    "\n",
    "import pytest\n",
    "from selenium import webdriver\n",
    "\n",
    "def pytest_addoption(parser):\n",
    "    parser.addoption('--language', action='store', default=\"fr\", # set 'francaise' by default!!\n",
    "                     help=\"Choose language\")\n",
    "    parser.addoption('--link', action='store',\n",
    "                     default=\"http://selenium1py.pythonanywhere.com/catalogue/coders-at-work_207/\",\n",
    "                     help=\"Check link\")\n",
    "\n",
    "\n",
    "@pytest.fixture(scope=\"function\")\n",
    "def browser(request):\n",
    "    print(\"\\nstart browser for test..\")\n",
    "    lang = request.config.getoption(\"language\")\n",
    "    browser = webdriver.Chrome()\n",
    "    yield browser\n",
    "    print(\"\\nquit browser..\")\n",
    "    browser.quit()\n",
    "    \n",
    "@pytest.fixture(scope=\"function\")\n",
    "def language(request):\n",
    "    language = request.config.getoption(\"language\")\n",
    "    return language\n",
    "\n",
    "@pytest.fixture(scope=\"function\")\n",
    "def link(request):\n",
    "    link = request.config.getoption(\"link\")\n",
    "    return link"
   ]
  },
  {
   "cell_type": "code",
   "execution_count": null,
   "id": "6c1f20f7",
   "metadata": {},
   "outputs": [],
   "source": []
  }
 ],
 "metadata": {
  "kernelspec": {
   "display_name": "Python 3 (ipykernel)",
   "language": "python",
   "name": "python3"
  },
  "language_info": {
   "codemirror_mode": {
    "name": "ipython",
    "version": 3
   },
   "file_extension": ".py",
   "mimetype": "text/x-python",
   "name": "python",
   "nbconvert_exporter": "python",
   "pygments_lexer": "ipython3",
   "version": "3.10.0"
  }
 },
 "nbformat": 4,
 "nbformat_minor": 5
}
