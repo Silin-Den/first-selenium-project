{
 "cells": [
  {
   "cell_type": "markdown",
   "id": "ea83eaa1",
   "metadata": {},
   "source": [
    "<p style=\"background:black\">\n",
    "<code style=\"background:black;color:white\">~/Users/YOUR_USERNAME/> pip3 install selenium<br> -->Voile\n",
    "</code>\n",
    "</p>"
   ]
  },
  {
   "cell_type": "markdown",
   "id": "926d442b",
   "metadata": {},
   "source": [
    "<div id=\"id\"></div> \n",
    "\n",
    "[CONFTEST](#conftest) | [LOCATORS](#locators) | [PAGE OBJECTS](#page_obj) | [TESTS](#tests) | [RUNNERS](#runs)\n",
    "     "
   ]
  },
  {
   "cell_type": "markdown",
   "id": "f9a17217",
   "metadata": {},
   "source": [
    "<h3>\n",
    "    <p id=\"conftest\" style=\"font-family:Comic Sans MS;color:black;\"> CONFEST </p>     \n",
    "</h3>  \n",
    "\n",
    "[-->](#id)"
   ]
  },
  {
   "cell_type": "code",
   "execution_count": 1,
   "id": "6885a16b",
   "metadata": {},
   "outputs": [
    {
     "name": "stdout",
     "output_type": "stream",
     "text": [
      "Overwriting conftest.py\n"
     ]
    }
   ],
   "source": [
    "%%writefile conftest.py\n",
    "\n",
    "import pytest\n",
    "from selenium import webdriver\n",
    "from selenium.webdriver.chrome.options import Options\n",
    "\n",
    "\n",
    "def pytest_addoption(parser):\n",
    "    parser.addoption('--browser_name', action='store', default=\"chrome\",\n",
    "                     help=\"Choose browser: chrome or firefox\")\n",
    "    parser.addoption('--language', action='store', default=\"en\",\n",
    "                     help=\"Choose language\")\n",
    "    \n",
    "@pytest.fixture(scope=\"function\")\n",
    "def language(request):\n",
    "    language = request.config.getoption(\"language\")\n",
    "    return language \n",
    "\n",
    "@pytest.fixture(scope=\"function\")\n",
    "def browser(request,language):\n",
    "    \n",
    "    browser_name = request.config.getoption(\"browser_name\")\n",
    "    browser = None\n",
    "    \n",
    "    if browser_name == \"chrome\":\n",
    "        \n",
    "        print(\"\\nstart chrome browser for test..\")\n",
    "        options = Options()\n",
    "        options.add_experimental_option('prefs', {'intl.accept_languages': language})\n",
    "        browser = webdriver.Chrome(options=options)\n",
    "        \n",
    "    elif browser_name == \"firefox\":\n",
    "        \n",
    "        print(\"\\nstart firefox browser for test..\")\n",
    "        fp = webdriver.FirefoxProfile()\n",
    "        fp.set_preference(\"intl.accept_languages\", language)\n",
    "        browser = webdriver.Firefox(firefox_profile=fp)\n",
    "\n",
    "    else:\n",
    "        \n",
    "        raise pytest.UsageError(\"--browser_name should be chrome or firefox\")\n",
    "        \n",
    "    yield browser\n",
    "    print(\"\\nquit browser..\")\n",
    "    browser.quit()\n",
    "\n",
    "    "
   ]
  },
  {
   "cell_type": "markdown",
   "id": "f0b1ae23",
   "metadata": {},
   "source": [
    "<h3>\n",
    "    <div id=\"locators\"  style=\"font-family:Comic Sans MS;color:black\" > LOCATORS </div>\n",
    "</h3>\n",
    "\n",
    "[-->](#id)"
   ]
  },
  {
   "cell_type": "code",
   "execution_count": 2,
   "id": "046d827c",
   "metadata": {},
   "outputs": [
    {
     "name": "stdout",
     "output_type": "stream",
     "text": [
      "Overwriting pages/locators.py\n"
     ]
    }
   ],
   "source": [
    "%%writefile pages/locators.py\n",
    "\n",
    "from selenium.webdriver.common.by import By\n",
    "\n",
    "class BasePageLocators():\n",
    "    LOGIN_LINK = (By.CSS_SELECTOR, \"#login_link\")\n",
    "    LOGIN_LINK_INVALID = (By.CSS_SELECTOR, \"#login_link_inc\")\n",
    "    BASKET_BUTTON = (By.CSS_SELECTOR, \"span.btn-group > a.btn\")\n",
    "    USER_ICON = (By.CSS_SELECTOR, \".icon-user\")\n",
    "\n",
    "class MainPageLocators():\n",
    "    LOGIN_LINK = (By.CSS_SELECTOR, \"#login_link\")\n",
    "    \n",
    "class LoginPageLocators():\n",
    "    LOGIN_FORM = (By.CSS_SELECTOR, \"#login_form\")\n",
    "    REGISTER_FORM = (By.CSS_SELECTOR, \"#register_form\")\n",
    "    EMAIL = (By.CSS_SELECTOR, \"#id_registration-email\")\n",
    "    PSWD1 = (By.CSS_SELECTOR, \"#id_registration-password1\")\n",
    "    PSWD2 = (By.CSS_SELECTOR, \"#id_registration-password2\")\n",
    "    SUBMIT = (By.CSS_SELECTOR, \".btn[name='registration_submit']\")\n",
    "    \n",
    "class ProductPageLocators():\n",
    "    BASKET_BUTTON = (By.CSS_SELECTOR,\"button.btn-add-to-basket\")\n",
    "    PRODUCT_NAME  = (By.CSS_SELECTOR,\".product_main > h1\")\n",
    "    BUSKET_PRODUCT_NAME  = (By.CSS_SELECTOR,\".alertinner > strong\")\n",
    "    PRODUCT_PRICE = (By.CSS_SELECTOR,\".product_main > .price_color\")\n",
    "    BUSKET_PRODUCT_PRICE  = (By.CSS_SELECTOR,\".alertinner > p > strong\")\n",
    "    SUCCESS_MESSAGE = (By.CSS_SELECTOR,\"#messages > div:nth-child(1)\")\n",
    "    \n",
    "class BasketPageLocators():    \n",
    "    TOTAL_GOODS = (By.CSS_SELECTOR, \"#basket_formset > .basket-items\")\n",
    "    TOTAL_GOODS_LABEL = (By.CSS_SELECTOR, \".content\")"
   ]
  },
  {
   "cell_type": "markdown",
   "id": "2328a4e1",
   "metadata": {},
   "source": [
    "<h3>\n",
    "    <p id=\"page_obj\" style=\"font-family:Comic Sans MS;color:black\"> PAGE OBJECTS </p> \n",
    "</h3>\n",
    "\n",
    "[-->](#id)"
   ]
  },
  {
   "cell_type": "markdown",
   "id": "6d416332",
   "metadata": {},
   "source": [
    "[BasePage](#BasePage) | [LoginPage](#LoginPage) | [MainPage](#MainPage) | [ProductPage](#ProductPage) |"
   ]
  },
  {
   "cell_type": "markdown",
   "id": "b7cee02b",
   "metadata": {},
   "source": [
    "> <h4>\n",
    "    <p id=\"BasePage\" style=\"font-family:Comic Sans MS;color:black\" > BasePage </p>\n",
    "</h4>"
   ]
  },
  {
   "cell_type": "code",
   "execution_count": 3,
   "id": "1074504b",
   "metadata": {},
   "outputs": [
    {
     "name": "stdout",
     "output_type": "stream",
     "text": [
      "Overwriting pages/base_page.py\n"
     ]
    }
   ],
   "source": [
    "%%writefile pages/base_page.py\n",
    "\n",
    "from selenium.common.exceptions import NoSuchElementException, NoAlertPresentException, TimeoutException\n",
    "from selenium.webdriver.support.ui import WebDriverWait\n",
    "from selenium.webdriver.support import expected_conditions as EC\n",
    "from .locators import BasePageLocators\n",
    "import math\n",
    "\n",
    "class BasePage():\n",
    "    \n",
    "    def __init__(self, browser, url, timeout=10):\n",
    "        \n",
    "        self.browser = browser\n",
    "        self.url = url\n",
    "        self.browser.implicitly_wait(timeout)\n",
    "                \n",
    "    def open(self):        \n",
    "        self.browser.get(self.url)\n",
    "                \n",
    "    def is_element_present(self, how, what):        \n",
    "        try:\n",
    "            self.browser.find_element(how, what)\n",
    "        except NoSuchElementException:\n",
    "            return False\n",
    "        return True     \n",
    "    \n",
    "    def is_not_element_present(self, how, what, timeout=4):            \n",
    "        try:\n",
    "            WebDriverWait(self.browser, timeout).until(EC.presence_of_element_located((how, what)))\n",
    "        except TimeoutException:\n",
    "            return True\n",
    "        return False  \n",
    "    \n",
    "    def go_to_login_page(self):\n",
    "        link = self.browser.find_element(*BasePageLocators.LOGIN_LINK)\n",
    "        link.click()\n",
    "        \n",
    "    def should_be_login_link(self):\n",
    "        assert self.is_element_present(*BasePageLocators.LOGIN_LINK), \"Login link is not presented\"\n",
    "    \n",
    "    \n",
    "    def solve_quiz_and_get_code(self):        \n",
    "        alert = self.browser.switch_to.alert\n",
    "        x = int(alert.text.split(\" \")[2])\n",
    "        answer = str(math.log(abs((12 * math.sin(float(x))))))\n",
    "        alert.send_keys(answer)\n",
    "        alert.accept()\n",
    "        \n",
    "        try:\n",
    "            alert = self.browser.switch_to.alert\n",
    "            alert_text = alert.text\n",
    "            print(f\"Your code: {alert_text}\")\n",
    "            alert.accept()\n",
    "            \n",
    "        except NoAlertPresentException:\n",
    "            print(\"No second alert presented\")\n",
    "            \n",
    "            \n",
    "    def is_disappeared(self, how, what, timeout=4):        \n",
    "        try:\n",
    "            WebDriverWait(self.browser, timeout, 1, TimeoutException).\\\n",
    "            until_not(EC.presence_of_element_located((how, what)))\n",
    "        except TimeoutException:\n",
    "            return False\n",
    "        return True \n",
    "    \n",
    "    def go_to_basket(self):\n",
    "        button = self.browser.find_element(*BasePageLocators.BASKET_BUTTON)\n",
    "        button.click()\n",
    "   \n",
    "\n",
    "    def should_be_authorized_user(self):\n",
    "        assert self.is_element_present(*BasePageLocators.USER_ICON), \"User icon is not presented,\" \\\n",
    "                                                                 \" probably unauthorised user\""
   ]
  },
  {
   "cell_type": "markdown",
   "id": "99110f4c",
   "metadata": {},
   "source": [
    "> <h4>\n",
    "    <p id=\"LoginPage\" style=\"font-family:Comic Sans MS;color:black\" > LoginPage </p>\n",
    "</h4>"
   ]
  },
  {
   "cell_type": "code",
   "execution_count": 4,
   "id": "29c80883",
   "metadata": {},
   "outputs": [
    {
     "name": "stdout",
     "output_type": "stream",
     "text": [
      "Overwriting pages/login_page.py\n"
     ]
    }
   ],
   "source": [
    "%%writefile pages/login_page.py\n",
    "\n",
    "from .base_page import BasePage\n",
    "from .locators import LoginPageLocators\n",
    "import time\n",
    "\n",
    "class LoginPage(BasePage):\n",
    "\n",
    "    def should_be_login_page(self):\n",
    "        self.should_be_login_url()\n",
    "        self.should_be_login_form()\n",
    "        self.should_be_register_form()\n",
    "\n",
    "    def should_be_login_url(self):        \n",
    "        assert \"login\" in self.browser.current_url, 'Incorrected URL (not inclusive substring \"login\").'\n",
    "\n",
    "    def should_be_login_form(self):\n",
    "        assert self.browser.find_element(*LoginPageLocators.LOGIN_FORM) ,'Up-s-s...Login form not found!'\n",
    "\n",
    "    def should_be_register_form(self):\n",
    "        assert self.browser.find_element(*LoginPageLocators.REGISTER_FORM),'Up-s-s...Register form not found!'\n",
    "        \n",
    "        \n",
    "    def register_new_user(self,email,password): \n",
    "\n",
    "        reg_email = self.browser.find_element(*LoginPageLocators.EMAIL)\n",
    "        reg_email.send_keys(email)\n",
    "        \n",
    "        reg_rswd = self.browser.find_element(*LoginPageLocators.PSWD1)\n",
    "        reg_rswd.send_keys(password)\n",
    "        \n",
    "        reg_rswd2 = self.browser.find_element(*LoginPageLocators.PSWD2)\n",
    "        reg_rswd2.send_keys(password)\n",
    "        \n",
    "        button = self.browser.find_element(*LoginPageLocators.SUBMIT)\n",
    "        button.click()"
   ]
  },
  {
   "cell_type": "markdown",
   "id": "228ab96e",
   "metadata": {},
   "source": [
    "> <h4>\n",
    "    <p id=\"MainPage\" style=\"font-family:Comic Sans MS;color:black\"> MainPage </p>\n",
    "</h4>"
   ]
  },
  {
   "cell_type": "code",
   "execution_count": 5,
   "id": "e62fac25",
   "metadata": {},
   "outputs": [
    {
     "name": "stdout",
     "output_type": "stream",
     "text": [
      "Overwriting pages/main_page.py\n"
     ]
    }
   ],
   "source": [
    "%%writefile pages/main_page.py\n",
    "\n",
    "from selenium.webdriver.common.by import By\n",
    "from .base_page import BasePage\n",
    "\n",
    "class MainPage(BasePage): \n",
    "    \n",
    "    def __init__(self, *args, **kwargs):\n",
    "        super(MainPage, self).__init__(*args, **kwargs)\n"
   ]
  },
  {
   "cell_type": "markdown",
   "id": "093e91e6",
   "metadata": {},
   "source": [
    "> <h4>\n",
    "    <p id=\"ProductPage\" style=\"font-family:Comic Sans MS;color:black\"> ProductPage </p>\n",
    "</h4>"
   ]
  },
  {
   "cell_type": "code",
   "execution_count": 18,
   "id": "d2c536a1",
   "metadata": {},
   "outputs": [
    {
     "name": "stdout",
     "output_type": "stream",
     "text": [
      "Overwriting pages/product_page.py\n"
     ]
    }
   ],
   "source": [
    "%%writefile pages/product_page.py\n",
    "\n",
    "from selenium.webdriver.common.by import By\n",
    "from .base_page import BasePage\n",
    "from .locators import ProductPageLocators\n",
    "\n",
    "class ProductPage(BasePage):\n",
    "    \n",
    "    def add_product_to_basket(self):\n",
    "        self.should_be_button()\n",
    "        #self.solve_quiz_and_get_code()\n",
    "        self.should_be_equal_name()\n",
    "        self.should_be_equal_price()\n",
    "    \n",
    "    def should_be_button(self): \n",
    "        \n",
    "        button = self.browser.find_element(*ProductPageLocators.BASKET_BUTTON)\n",
    "        button.click()\n",
    "        print('Your code: Congratulations! Buttton presented!--> ')\n",
    "    \n",
    "    def should_be_equal_name(self):\n",
    "        \n",
    "        product_name  = self.browser.find_element(*ProductPageLocators.PRODUCT_NAME)\n",
    "        basket_name  = self.browser.find_element(*ProductPageLocators.BUSKET_PRODUCT_NAME)\n",
    "        assert basket_name.text == product_name.text, 'not equal names!!'\n",
    "        print('Your code: Congratulations! Couple name is equal! --> ')\n",
    "        \n",
    "    def should_be_equal_price(self):\n",
    "        \n",
    "        product_price = self.browser.find_element(*ProductPageLocators.PRODUCT_PRICE)\n",
    "        basket_price  = self.browser.find_element(*ProductPageLocators.BUSKET_PRODUCT_PRICE)\n",
    "        assert basket_price.text == product_price.text, 'not equal prices!!'\n",
    "        print('Your code: Congratulations! Couple price is equal! --> ')\n",
    "        \n",
    "    def should_not_be_success_message(self):\n",
    "        assert self.is_not_element_present(*ProductPageLocators.SUCCESS_MESSAGE), \\\n",
    "           \"Success message is presented, but should not be\" \n",
    "        print('Your code: Congratulations! Success message not presented! --> ')\n",
    "        \n",
    "    def should_be_success_message(self):\n",
    "        assert self.is_element_present(*ProductPageLocators.SUCCESS_MESSAGE), \\\n",
    "           \"Success message not presented, but should be!\"  \n",
    "        print('Your code: Congratulations! Success message presented! --> ')\n",
    "        \n",
    "    def success_message_should_disappear(self):\n",
    "        assert False\n",
    "        print('Your code: Congratulations! Success message disappeared! --> ')"
   ]
  },
  {
   "cell_type": "markdown",
   "id": "86d210ef",
   "metadata": {},
   "source": [
    "> <h4>\n",
    "    <p id=\"BasketPage\" style=\"font-family:Comic Sans MS;color:black\"> BasketPage </p>\n",
    "</h4>"
   ]
  },
  {
   "cell_type": "code",
   "execution_count": 7,
   "id": "de6c6ab0",
   "metadata": {},
   "outputs": [
    {
     "name": "stdout",
     "output_type": "stream",
     "text": [
      "Overwriting pages/basket_page.py\n"
     ]
    }
   ],
   "source": [
    "%%writefile pages/basket_page.py\n",
    "\n",
    "from selenium.webdriver.common.by import By\n",
    "from .base_page import BasePage\n",
    "from .locators import BasketPageLocators\n",
    "\n",
    "class BasketPage(BasePage):\n",
    "    \n",
    "    def should_not_be_goods_in_basket(self):\n",
    "        \n",
    "        assert self.is_not_element_present(*BasketPageLocators.TOTAL_GOODS),\" Basket is not empty!\"\n",
    "        print('Your code: Congratulations! Basket is empty..')\n",
    "    \n",
    "    def should_be_text_about_basket(self):\n",
    "        \n",
    "        assert self.is_element_present(*BasketPageLocators.TOTAL_GOODS_LABEL), \"Empty title!\" \n",
    "        print('Your code: Congratulations! Label in page..')"
   ]
  },
  {
   "cell_type": "markdown",
   "id": "2f3450c4",
   "metadata": {},
   "source": [
    "<h3>\n",
    "    <p id=\"tests\" style=\"font-family:Comic Sans MS;color:black\"> TESTS </p>\n",
    "</h3>\n",
    "\n",
    "[-->](#id)"
   ]
  },
  {
   "cell_type": "markdown",
   "id": "befa2541",
   "metadata": {},
   "source": [
    "[test_main_page](#test_main_page) | [test_product_page](#test_product_page)"
   ]
  },
  {
   "cell_type": "markdown",
   "id": "72961935",
   "metadata": {},
   "source": [
    "> <h4>\n",
    "    <p id=\"test_main_page\" style=\"font-family:Comic Sans MS;color:black\"> test_main_page </p>\n",
    "</h4>"
   ]
  },
  {
   "cell_type": "code",
   "execution_count": 8,
   "id": "9407ea4d",
   "metadata": {},
   "outputs": [
    {
     "name": "stdout",
     "output_type": "stream",
     "text": [
      "Overwriting test_main_page.py\n"
     ]
    }
   ],
   "source": [
    "%%writefile test_main_page.py\n",
    "\n",
    "import pytest\n",
    "from pages.main_page import MainPage\n",
    "from pages.basket_page import BasketPage\n",
    "import time\n",
    "\n",
    "link = \"http://selenium1py.pythonanywhere.com/\"\n",
    "\n",
    "\n",
    "@pytest.mark.login_guest\n",
    "class TestLoginFromMainPage():\n",
    "    \n",
    "    def test_guest_should_see_login_link(self, browser):\n",
    "\n",
    "        page = MainPage(browser, link)\n",
    "        page.open()\n",
    "        page.should_be_login_link()  \n",
    "\n",
    "\n",
    "    def test_guest_can_go_to_login_page(self,browser):\n",
    "        \n",
    "        page = MainPage(browser, link)\n",
    "        page.open()\n",
    "        page.go_to_login_page()\n",
    "\n",
    "@pytest.mark.basket\n",
    "class TestBasket():\n",
    "    def test_guest_cant_see_product_in_basket_opened_from_main_page(self,browser):\n",
    "        \n",
    "        page = MainPage(browser, link)\n",
    "        page.open()\n",
    "        page.go_to_basket()\n",
    "        basket_page = BasketPage(browser, browser.current_url)\n",
    "        basket_page.should_not_be_goods_in_basket()\n",
    "        basket_page.should_be_text_about_basket() \n",
    "        "
   ]
  },
  {
   "cell_type": "markdown",
   "id": "9661b5ac",
   "metadata": {},
   "source": [
    "> <h4>\n",
    "    <p id=\"test_product_page\" style=\"font-family:Comic Sans MS;color:black\"> test_product_page </p>\n",
    "</h4>"
   ]
  },
  {
   "cell_type": "code",
   "execution_count": 9,
   "id": "888414b9",
   "metadata": {},
   "outputs": [],
   "source": [
    "# @pytest.mark.parametrize(\n",
    "#         'link', [\"http://selenium1py.pythonanywhere.com/catalogue/coders-at-work_207/?promo=offer0\",\n",
    "#                  \"http://selenium1py.pythonanywhere.com/catalogue/coders-at-work_207/?promo=offer1\",\n",
    "#                  \"http://selenium1py.pythonanywhere.com/catalogue/coders-at-work_207/?promo=offer2\",\n",
    "#                  \"http://selenium1py.pythonanywhere.com/catalogue/coders-at-work_207/?promo=offer3\",\n",
    "#                  \"http://selenium1py.pythonanywhere.com/catalogue/coders-at-work_207/?promo=offer4\",\n",
    "#                  \"http://selenium1py.pythonanywhere.com/catalogue/coders-at-work_207/?promo=offer5\",\n",
    "#                  \"http://selenium1py.pythonanywhere.com/catalogue/coders-at-work_207/?promo=offer6\",\n",
    "#                  \"http://selenium1py.pythonanywhere.com/catalogue/coders-at-work_207/?promo=offer7\",\n",
    "#                  \"http://selenium1py.pythonanywhere.com/catalogue/coders-at-work_207/?promo=offer8\",\n",
    "#                  \"http://selenium1py.pythonanywhere.com/catalogue/coders-at-work_207/?promo=offer9\"])"
   ]
  },
  {
   "cell_type": "code",
   "execution_count": 20,
   "id": "a6651160",
   "metadata": {},
   "outputs": [
    {
     "name": "stdout",
     "output_type": "stream",
     "text": [
      "Overwriting test_product_page.py\n"
     ]
    }
   ],
   "source": [
    "%%writefile test_product_page.py\n",
    "\n",
    "import pytest\n",
    "import time\n",
    "\n",
    "from pages.product_page import ProductPage\n",
    "from pages.basket_page import BasketPage\n",
    "from pages.base_page import BasePage\n",
    "from pages.login_page import LoginPage\n",
    "\n",
    "# link = \" http://selenium1py.pythonanywhere.com/catalogue/coders-at-work_207/?promo=newYear2019\"\n",
    "link = \"http://selenium1py.pythonanywhere.com/en-gb/catalogue/the-city-and-the-stars_95/\"\n",
    "\n",
    "@pytest.mark.new\n",
    "class TestUserAddToBasketFromProductPage():\n",
    "     \n",
    "    @pytest.fixture(scope=\"function\",autouse=True)\n",
    "    def setup(self, browser):           \n",
    "        email = str(time.time()) + \"@fakemail.org\"\n",
    "        password = str(time.time()).split('.')[0]\n",
    "                    \n",
    "        page = ProductPage(browser, link)\n",
    "        page.open()\n",
    "        page.go_to_login_page()\n",
    "        login = LoginPage(browser, browser.current_url)\n",
    "        login.register_new_user(email,password)\n",
    "        login.should_be_authorized_user()            \n",
    " \n",
    "    \n",
    "    def test_user_cant_see_success_message_before_adding_product_to_basket(self,browser):\n",
    "        page = ProductPage(browser,link)\n",
    "        page.open()\n",
    "        page.should_not_be_success_message()\n",
    "\n",
    "\n",
    "#     @pytest.mark.xfail    \n",
    "    def  test_user_can_add_product_to_basket(self,browser):\n",
    "\n",
    "        page = ProductPage(browser,link)\n",
    "        page.open()\n",
    "        page.should_not_be_success_message()\n",
    "        page.add_product_to_basket()\n",
    "        page.should_be_success_message()\n",
    "        page.success_message_should_disappear()\n",
    "          \n",
    "            \n",
    "def test_guest_should_see_login_link_on_product_page(browser):\n",
    "\n",
    "    page = ProductPage(browser, link)\n",
    "    page.open()\n",
    "    page.should_be_login_link()\n",
    "    \n",
    "def test_guest_can_go_to_login_page_from_product_page(browser):\n",
    "\n",
    "    page = ProductPage(browser, link)\n",
    "    page.open()\n",
    "    page.go_to_login_page()\n",
    "\n",
    "\n",
    "@pytest.mark.basket        \n",
    "def test_guest_cant_see_product_in_basket_opened_from_product_page(browser):\n",
    "    \n",
    "    page = ProductPage(browser, link)\n",
    "    page.open()\n",
    "    page.go_to_basket()\n",
    "    basket_page = BasketPage(browser, browser.current_url)\n",
    "    basket_page.should_not_be_goods_in_basket()\n",
    "    basket_page.should_be_text_about_basket() \n",
    "    "
   ]
  },
  {
   "cell_type": "markdown",
   "id": "59c1d9cd",
   "metadata": {},
   "source": [
    "> <h4>\n",
    "    <p id=\"test_negative\" style=\"font-family:Comic Sans MS;color:black\"> test_negative </p>\n",
    "</h4>"
   ]
  },
  {
   "cell_type": "code",
   "execution_count": 11,
   "id": "accc2c4f",
   "metadata": {},
   "outputs": [
    {
     "name": "stdout",
     "output_type": "stream",
     "text": [
      "Overwriting test_negative.py\n"
     ]
    }
   ],
   "source": [
    "%%writefile test_negative.py\n",
    "\n",
    "import pytest\n",
    "import time\n",
    "from pages.product_page import ProductPage\n",
    "from pages.basket_page import BasketPage\n",
    "\n",
    "link = \" http://selenium1py.pythonanywhere.com/catalogue/coders-at-work_207/?promo=newYear2019\"\n",
    "\n",
    "\n",
    "class Test_Negative():\n",
    "    @pytest.mark.xfail\n",
    "    def test_guest_cant_see_success_message_after_adding_product_to_basket(self,browser):\n",
    "        page = ProductPage(browser,link)\n",
    "        page.open()\n",
    "        page.add_product_to_basket()\n",
    "        page.should_not_be_success_message()\n",
    "        \n",
    "    def test_guest_cant_see_success_message_before_adding_product_to_basket(self,browser):\n",
    "        page = ProductPage(browser,link)\n",
    "        page.open()\n",
    "        page.should_not_be_success_message()\n",
    "        \n",
    "    @pytest.mark.xfail    \n",
    "    def test_message_disappeared_after_adding_product_to_basket(self,browser):\n",
    "        page = ProductPage(browser,link)\n",
    "        page.open()\n",
    "        page.add_product_to_basket()\n",
    "        page.success_message_should_disappear()\n"
   ]
  },
  {
   "cell_type": "code",
   "execution_count": null,
   "id": "30d48f1a",
   "metadata": {},
   "outputs": [],
   "source": []
  },
  {
   "cell_type": "markdown",
   "id": "a124e655",
   "metadata": {},
   "source": [
    "<h3>\n",
    "    <p id=\"runs\" style=\"font-family:Comic Sans MS;color:black\" > RUNNERS </p>\n",
    "</h3>"
   ]
  },
  {
   "cell_type": "markdown",
   "id": "6b3a4cca",
   "metadata": {},
   "source": [
    "<h4><p id=\"test_main_page\" style=\"font-family:Comic Sans MS;color:black\" > test_main_page </p></h4>"
   ]
  },
  {
   "cell_type": "code",
   "execution_count": 12,
   "id": "419a68cb",
   "metadata": {},
   "outputs": [
    {
     "name": "stdout",
     "output_type": "stream",
     "text": [
      "\u001b[1m============================= test session starts ==============================\u001b[0m\n",
      "platform darwin -- Python 3.10.0, pytest-6.2.5, py-1.11.0, pluggy-0.13.1 -- /Users/silinanata/selenium_project/first-selenium-project/venv/bin/python3\n",
      "cachedir: .pytest_cache\n",
      "rootdir: /Users/silinanata/selenium_project/first-selenium-project, configfile: pytest.ini\n",
      "collected 3 items                                                              \u001b[0m\n",
      "\n",
      "test_main_page.py::TestLoginFromMainPage::test_guest_should_see_login_link \n",
      "start chrome browser for test..\n",
      "\u001b[32mPASSED\u001b[0m\n",
      "quit browser..\n",
      "\n",
      "test_main_page.py::TestLoginFromMainPage::test_guest_can_go_to_login_page \n",
      "start chrome browser for test..\n",
      "\u001b[32mPASSED\u001b[0m\n",
      "quit browser..\n",
      "\n",
      "test_main_page.py::TestBasket::test_guest_cant_see_product_in_basket_opened_from_main_page \n",
      "start chrome browser for test..\n",
      "Your code: Congratulations! Basket is empty..\n",
      "Your code: Congratulations! Label in page..\n",
      "\u001b[32mPASSED\u001b[0m\n",
      "quit browser..\n",
      "\n",
      "\n",
      "\u001b[32m============================== \u001b[32m\u001b[1m3 passed\u001b[0m\u001b[32m in 25.89s\u001b[0m\u001b[32m ==============================\u001b[0m\n"
     ]
    }
   ],
   "source": [
    "!pytest -sv --tb=line --language=en test_main_page.py"
   ]
  },
  {
   "cell_type": "markdown",
   "id": "77a21734",
   "metadata": {},
   "source": [
    "<h4><p id=\"test_product_page\" style=\"font-family:Comic Sans MS;color:black\" > test_product_page </p></h4>"
   ]
  },
  {
   "cell_type": "code",
   "execution_count": 21,
   "id": "a9584f65",
   "metadata": {},
   "outputs": [
    {
     "name": "stdout",
     "output_type": "stream",
     "text": [
      "\u001b[1m============================= test session starts ==============================\u001b[0m\n",
      "platform darwin -- Python 3.10.0, pytest-6.2.5, py-1.11.0, pluggy-0.13.1 -- /Users/silinanata/selenium_project/first-selenium-project/venv/bin/python3\n",
      "cachedir: .pytest_cache\n",
      "rootdir: /Users/silinanata/selenium_project/first-selenium-project, configfile: pytest.ini\n",
      "collected 0 items / 1 error                                                    \u001b[0m\n",
      "\n",
      "==================================== ERRORS ====================================\n",
      "\u001b[31m\u001b[1m____________________ ERROR collecting test_product_page.py _____________________\u001b[0m\n",
      "\u001b[31mvenv/lib/python3.10/site-packages/_pytest/python.py:578: in _importtestmodule\n",
      "    mod = import_path(self.fspath, mode=importmode)\n",
      "venv/lib/python3.10/site-packages/_pytest/pathlib.py:524: in import_path\n",
      "    importlib.import_module(module_name)\n",
      "/Library/Frameworks/Python.framework/Versions/3.10/lib/python3.10/importlib/__init__.py:126: in import_module\n",
      "    return _bootstrap._gcd_import(name[level:], package, level)\n",
      "<frozen importlib._bootstrap>:1050: in _gcd_import\n",
      "    ???\n",
      "<frozen importlib._bootstrap>:1027: in _find_and_load\n",
      "    ???\n",
      "<frozen importlib._bootstrap>:1006: in _find_and_load_unlocked\n",
      "    ???\n",
      "<frozen importlib._bootstrap>:688: in _load_unlocked\n",
      "    ???\n",
      "venv/lib/python3.10/site-packages/_pytest/assertion/rewrite.py:161: in exec_module\n",
      "    source_stat, co = _rewrite_test(fn, self.config)\n",
      "venv/lib/python3.10/site-packages/_pytest/assertion/rewrite.py:354: in _rewrite_test\n",
      "    tree = ast.parse(source, filename=fn_)\n",
      "/Library/Frameworks/Python.framework/Versions/3.10/lib/python3.10/ast.py:50: in parse\n",
      "    return compile(source, filename, mode, flags,\n",
      "E     File \"/Users/silinanata/selenium_project/first-selenium-project/test_product_page.py\", line 44\n",
      "E       page.success_message_should_disappear()\n",
      "E       ^^^^\n",
      "E   SyntaxError: invalid syntax\u001b[0m\n",
      "=========================== short test summary info ============================\n",
      "ERROR test_product_page.py\n",
      "!!!!!!!!!!!!!!!!!!!! Interrupted: 1 error during collection !!!!!!!!!!!!!!!!!!!!\n",
      "\u001b[31m=============================== \u001b[31m\u001b[1m1 error\u001b[0m\u001b[31m in 0.18s\u001b[0m\u001b[31m ===============================\u001b[0m\n"
     ]
    }
   ],
   "source": [
    "!pytest -sv --tb=line test_product_page.py"
   ]
  },
  {
   "cell_type": "markdown",
   "id": "7a92dd68",
   "metadata": {},
   "source": [
    "<h4><p id=\"negatve_tests\" style=\"font-family:Comic Sans MS;color:black\" > test_negatve_tests </p></h4>"
   ]
  },
  {
   "cell_type": "code",
   "execution_count": 14,
   "id": "a34a19ea",
   "metadata": {},
   "outputs": [
    {
     "name": "stdout",
     "output_type": "stream",
     "text": [
      "\u001b[1m============================= test session starts ==============================\u001b[0m\n",
      "platform darwin -- Python 3.10.0, pytest-6.2.5, py-1.11.0, pluggy-0.13.1 -- /Users/silinanata/selenium_project/first-selenium-project/venv/bin/python3\n",
      "cachedir: .pytest_cache\n",
      "rootdir: /Users/silinanata/selenium_project/first-selenium-project, configfile: pytest.ini\n",
      "collected 3 items                                                              \u001b[0m\n",
      "\n",
      "test_negative.py::Test_Negative::test_guest_cant_see_success_message_after_adding_product_to_basket \n",
      "start chrome browser for test..\n",
      "Your code: Congratulations! Buttton presented!--> \n",
      "\u001b[33mXFAIL\u001b[0m\n",
      "quit browser..\n",
      "\n",
      "test_negative.py::Test_Negative::test_guest_cant_see_success_message_before_adding_product_to_basket \n",
      "start chrome browser for test..\n",
      "Your code: Congratulations! Success message not presented! --> \n",
      "\u001b[32mPASSED\u001b[0m\n",
      "quit browser..\n",
      "\n",
      "test_negative.py::Test_Negative::test_message_disappeared_after_adding_product_to_basket \n",
      "start chrome browser for test..\n",
      "Your code: Congratulations! Buttton presented!--> \n",
      "\u001b[33mXFAIL\u001b[0m\n",
      "quit browser..\n",
      "\n",
      "\n",
      "\u001b[32m======================== \u001b[32m\u001b[1m1 passed\u001b[0m, \u001b[33m2 xfailed\u001b[0m\u001b[32m in 24.01s\u001b[0m\u001b[32m =========================\u001b[0m\n"
     ]
    }
   ],
   "source": [
    "!pytest -sv --tb=line test_negative.py"
   ]
  },
  {
   "cell_type": "code",
   "execution_count": null,
   "id": "f70ea1ed",
   "metadata": {},
   "outputs": [],
   "source": []
  },
  {
   "cell_type": "code",
   "execution_count": null,
   "id": "57d4da39",
   "metadata": {},
   "outputs": [],
   "source": []
  },
  {
   "cell_type": "code",
   "execution_count": null,
   "id": "0360e413",
   "metadata": {},
   "outputs": [],
   "source": []
  }
 ],
 "metadata": {
  "kernelspec": {
   "display_name": "Python 3 (ipykernel)",
   "language": "python",
   "name": "python3"
  },
  "language_info": {
   "codemirror_mode": {
    "name": "ipython",
    "version": 3
   },
   "file_extension": ".py",
   "mimetype": "text/x-python",
   "name": "python",
   "nbconvert_exporter": "python",
   "pygments_lexer": "ipython3",
   "version": "3.10.0"
  }
 },
 "nbformat": 4,
 "nbformat_minor": 5
}
