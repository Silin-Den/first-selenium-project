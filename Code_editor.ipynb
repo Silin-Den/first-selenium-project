{
 "cells": [
  {
   "cell_type": "markdown",
   "id": "926d442b",
   "metadata": {},
   "source": [
    "<h4>Добавьте туда файл conftest.py из предыдущего модуля. <br>Убедитесь дополнительно, что там есть параметр для задания языка интерфейса, по умолчанию равный \"en\".</h4>"
   ]
  },
  {
   "cell_type": "code",
   "execution_count": 8,
   "id": "6885a16b",
   "metadata": {},
   "outputs": [
    {
     "name": "stdout",
     "output_type": "stream",
     "text": [
      "Overwriting conftest.py\n"
     ]
    }
   ],
   "source": [
    "%%writefile conftest.py\n",
    "\n",
    "import pytest\n",
    "from selenium import webdriver\n",
    "from selenium.webdriver.chrome.options import Options\n",
    "\n",
    "\n",
    "def pytest_addoption(parser):\n",
    "    parser.addoption('--browser_name', action='store', default=\"chrome\",\n",
    "                     help=\"Choose browser: chrome or firefox\")\n",
    "    parser.addoption('--language', action='store', default=\"en\",\n",
    "                     help=\"Choose language\")\n",
    "    \n",
    "@pytest.fixture(scope=\"function\")\n",
    "def language(request):\n",
    "    language = request.config.getoption(\"language\")\n",
    "    return language \n",
    "\n",
    "@pytest.fixture(scope=\"function\")\n",
    "def browser(request,language):\n",
    "    \n",
    "    browser_name = request.config.getoption(\"browser_name\")\n",
    "    browser = None\n",
    "    \n",
    "    if browser_name == \"chrome\":\n",
    "        \n",
    "        print(\"\\nstart chrome browser for test..\")\n",
    "        options = Options()\n",
    "        options.add_experimental_option('prefs', {'intl.accept_languages': language})\n",
    "        browser = webdriver.Chrome(options=options)\n",
    "        \n",
    "    elif browser_name == \"firefox\":\n",
    "        \n",
    "        print(\"\\nstart firefox browser for test..\")\n",
    "        fp = webdriver.FirefoxProfile()\n",
    "        fp.set_preference(\"intl.accept_languages\", language)\n",
    "        browser = webdriver.Firefox(firefox_profile=fp)\n",
    "\n",
    "    else:\n",
    "        \n",
    "        raise pytest.UsageError(\"--browser_name should be chrome or firefox\")\n",
    "        \n",
    "    yield browser\n",
    "    print(\"\\nquit browser..\")\n",
    "    browser.quit()\n",
    "\n",
    "    "
   ]
  },
  {
   "cell_type": "markdown",
   "id": "f1a9e4b4",
   "metadata": {},
   "source": [
    "#### Создайте файл test_main_page.py и добавьте в него тест из предыдущего модуля:  "
   ]
  },
  {
   "cell_type": "code",
   "execution_count": 9,
   "id": "9407ea4d",
   "metadata": {},
   "outputs": [
    {
     "name": "stdout",
     "output_type": "stream",
     "text": [
      "Overwriting test_main_page.py\n"
     ]
    }
   ],
   "source": [
    "%%writefile test_main_page.py\n",
    "\n",
    "def test_guest_can_go_to_login_page(browser):\n",
    "    link = \"http://selenium1py.pythonanywhere.com/\"\n",
    "    browser.get(link)\n",
    "    login_link = browser.find_element_by_css_selector(\"#login_link\")\n",
    "    login_link.click()"
   ]
  },
  {
   "cell_type": "code",
   "execution_count": 11,
   "id": "419a68cb",
   "metadata": {},
   "outputs": [
    {
     "name": "stdout",
     "output_type": "stream",
     "text": [
      "\u001b[1m============================= test session starts ==============================\u001b[0m\n",
      "platform darwin -- Python 3.10.0, pytest-6.2.5, py-1.11.0, pluggy-0.13.1 -- /Users/silinanata/environments/selenium_env/bin/python3\n",
      "cachedir: .pytest_cache\n",
      "rootdir: /Users/silinanata/selenium_project/first-selenium-project\n",
      "plugins: rerunfailures-10.2\n",
      "collected 1 item                                                               \u001b[0m\n",
      "\n",
      "test_main_page.py::test_guest_can_go_to_login_page \u001b[32mPASSED\u001b[0m\u001b[32m                [100%]\u001b[0m\n",
      "\n",
      "\u001b[32m============================== \u001b[32m\u001b[1m1 passed\u001b[0m\u001b[32m in 8.56s\u001b[0m\u001b[32m ===============================\u001b[0m\n"
     ]
    }
   ],
   "source": [
    "!pytest -v --tb=line --language=en test_main_page.py"
   ]
  },
  {
   "cell_type": "code",
   "execution_count": null,
   "id": "1074504b",
   "metadata": {},
   "outputs": [],
   "source": [
    "%writefile pages/base_page.py\n",
    "\n",
    "class BasePage():\n",
    "    \n",
    "    def __init__(self, browser, url):\n",
    "        self.browser = browser\n",
    "        self.url = url\n",
    "    \n",
    "    def open(self):\n",
    "        self.browser.get()"
   ]
  }
 ],
 "metadata": {
  "kernelspec": {
   "display_name": "Python 3 (ipykernel)",
   "language": "python",
   "name": "python3"
  },
  "language_info": {
   "codemirror_mode": {
    "name": "ipython",
    "version": 3
   },
   "file_extension": ".py",
   "mimetype": "text/x-python",
   "name": "python",
   "nbconvert_exporter": "python",
   "pygments_lexer": "ipython3",
   "version": "3.10.0"
  }
 },
 "nbformat": 4,
 "nbformat_minor": 5
}
